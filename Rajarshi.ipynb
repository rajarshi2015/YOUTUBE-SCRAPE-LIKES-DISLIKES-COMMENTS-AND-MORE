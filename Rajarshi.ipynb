{
 "cells": [
  {
   "cell_type": "code",
   "execution_count": 1,
   "metadata": {
    "ExecuteTime": {
     "end_time": "2020-07-24T12:21:14.483075Z",
     "start_time": "2020-07-24T12:20:47.256745Z"
    }
   },
   "outputs": [],
   "source": [
    "from selenium import webdriver\n",
    "from selenium.common import exceptions\n",
    "import sys\n",
    "import time\n",
    "from openpyxl import Workbook\n",
    "import pandas as pd"
   ]
  },
  {
   "cell_type": "code",
   "execution_count": 2,
   "metadata": {
    "ExecuteTime": {
     "end_time": "2020-07-24T12:22:52.281175Z",
     "start_time": "2020-07-24T12:22:31.188182Z"
    }
   },
   "outputs": [
    {
     "name": "stdout",
     "output_type": "stream",
     "text": [
      "Requirement already satisfied: parsel in e:\\anaconda\\lib\\site-packages (1.6.0)\n",
      "Requirement already satisfied: six>=1.6.0 in e:\\anaconda\\lib\\site-packages (from parsel) (1.12.0)\n",
      "Requirement already satisfied: lxml in e:\\anaconda\\lib\\site-packages (from parsel) (4.2.5)\n",
      "Requirement already satisfied: cssselect>=0.9 in e:\\anaconda\\lib\\site-packages (from parsel) (1.1.0)\n",
      "Requirement already satisfied: w3lib>=1.19.0 in e:\\anaconda\\lib\\site-packages (from parsel) (1.22.0)\n"
     ]
    }
   ],
   "source": [
    "!pip install parsel"
   ]
  },
  {
   "cell_type": "code",
   "execution_count": 4,
   "metadata": {
    "ExecuteTime": {
     "end_time": "2020-07-24T12:23:27.829117Z",
     "start_time": "2020-07-24T12:23:25.232874Z"
    }
   },
   "outputs": [],
   "source": [
    "from parsel import Selector\n",
    "from time import sleep\n",
    "from selenium import webdriver\n",
    "from selenium.webdriver.chrome.options import Options\n",
    "from selenium.webdriver.common.keys import Keys\n",
    "from selenium import webdriver\n",
    "from selenium.webdriver.common.action_chains import ActionChains\n",
    "from selenium.webdriver.common.keys import Keys\n",
    "from selenium.webdriver.chrome.options import Options\n",
    "from selenium.webdriver.support import expected_conditions as EC\n",
    "from selenium.webdriver.common.by import By\n",
    "from selenium.webdriver.support.ui import WebDriverWait as wait\n",
    "import time,csv,re,io,sys,datetime,os,requests\n",
    "from bs4 import BeautifulSoup\n",
    "import numpy as np\n",
    "from selenium.webdriver.common.action_chains import ActionChains\n",
    "from selenium.webdriver.support.ui import WebDriverWait\n",
    "from selenium.webdriver.support import expected_conditions as EC"
   ]
  },
  {
   "cell_type": "code",
   "execution_count": 33,
   "metadata": {
    "ExecuteTime": {
     "end_time": "2020-07-24T12:27:29.945212Z",
     "start_time": "2020-07-24T12:27:29.477043Z"
    }
   },
   "outputs": [],
   "source": [
    "data = pd.read_csv('youtube_videos.csv',encoding='ISO-8859-1')\n",
    "url=data['URL']"
   ]
  },
  {
   "cell_type": "code",
   "execution_count": 34,
   "metadata": {
    "ExecuteTime": {
     "end_time": "2020-07-24T12:27:34.023844Z",
     "start_time": "2020-07-24T12:27:33.856777Z"
    }
   },
   "outputs": [
    {
     "data": {
      "text/html": [
       "<div>\n",
       "<style scoped>\n",
       "    .dataframe tbody tr th:only-of-type {\n",
       "        vertical-align: middle;\n",
       "    }\n",
       "\n",
       "    .dataframe tbody tr th {\n",
       "        vertical-align: top;\n",
       "    }\n",
       "\n",
       "    .dataframe thead th {\n",
       "        text-align: right;\n",
       "    }\n",
       "</style>\n",
       "<table border=\"1\" class=\"dataframe\">\n",
       "  <thead>\n",
       "    <tr style=\"text-align: right;\">\n",
       "      <th></th>\n",
       "      <th>Title</th>\n",
       "      <th>URL</th>\n",
       "    </tr>\n",
       "  </thead>\n",
       "  <tbody>\n",
       "    <tr>\n",
       "      <th>0</th>\n",
       "      <td>Gossip: Are Liverpool closing in on Koulibaly,...</td>\n",
       "      <td>https://www.youtube.com/watch?v=GzSBboiJI_4</td>\n",
       "    </tr>\n",
       "    <tr>\n",
       "      <th>1</th>\n",
       "      <td>Gossip: Can Chelsea really sign Kai Havertz, B...</td>\n",
       "      <td>https://www.youtube.com/watch?v=jdIPG6qSnwA</td>\n",
       "    </tr>\n",
       "    <tr>\n",
       "      <th>2</th>\n",
       "      <td>Arsenal's back three sloppy against Spurs - Ke...</td>\n",
       "      <td>https://www.youtube.com/watch?v=4NMBTM-S78I</td>\n",
       "    </tr>\n",
       "    <tr>\n",
       "      <th>3</th>\n",
       "      <td>Can Chunkz win it for Arsenal in beer goggles?...</td>\n",
       "      <td>https://www.youtube.com/watch?v=N4r50EGA8C8</td>\n",
       "    </tr>\n",
       "    <tr>\n",
       "      <th>4</th>\n",
       "      <td>Man Utd will play Chelsea for the fourth year ...</td>\n",
       "      <td>https://www.youtube.com/watch?v=VuoiF25tiTQ</td>\n",
       "    </tr>\n",
       "    <tr>\n",
       "      <th>5</th>\n",
       "      <td>League of Legends explained by the experts | B...</td>\n",
       "      <td>https://www.youtube.com/watch?v=yMLOvh6_1zY</td>\n",
       "    </tr>\n",
       "    <tr>\n",
       "      <th>6</th>\n",
       "      <td>Is it all over for Aston Villa? | Match of the...</td>\n",
       "      <td>https://www.youtube.com/watch?v=jp2IZQ9mz8M</td>\n",
       "    </tr>\n",
       "    <tr>\n",
       "      <th>7</th>\n",
       "      <td>Big Zuu's incredible freestyle for Premier Lea...</td>\n",
       "      <td>https://www.youtube.com/watch?v=fcR6rVF8tqE</td>\n",
       "    </tr>\n",
       "    <tr>\n",
       "      <th>8</th>\n",
       "      <td>Liverpool fans embarrass Man City fans in dizz...</td>\n",
       "      <td>https://www.youtube.com/watch?v=3JDerRTueMw</td>\n",
       "    </tr>\n",
       "    <tr>\n",
       "      <th>9</th>\n",
       "      <td>Ben Chilwell explains what it's like to play a...</td>\n",
       "      <td>https://www.youtube.com/watch?v=wftc_bm387k</td>\n",
       "    </tr>\n",
       "  </tbody>\n",
       "</table>\n",
       "</div>"
      ],
      "text/plain": [
       "                                               Title  \\\n",
       "0  Gossip: Are Liverpool closing in on Koulibaly,...   \n",
       "1  Gossip: Can Chelsea really sign Kai Havertz, B...   \n",
       "2  Arsenal's back three sloppy against Spurs - Ke...   \n",
       "3  Can Chunkz win it for Arsenal in beer goggles?...   \n",
       "4  Man Utd will play Chelsea for the fourth year ...   \n",
       "5  League of Legends explained by the experts | B...   \n",
       "6  Is it all over for Aston Villa? | Match of the...   \n",
       "7  Big Zuu's incredible freestyle for Premier Lea...   \n",
       "8  Liverpool fans embarrass Man City fans in dizz...   \n",
       "9  Ben Chilwell explains what it's like to play a...   \n",
       "\n",
       "                                           URL  \n",
       "0  https://www.youtube.com/watch?v=GzSBboiJI_4  \n",
       "1  https://www.youtube.com/watch?v=jdIPG6qSnwA  \n",
       "2  https://www.youtube.com/watch?v=4NMBTM-S78I  \n",
       "3  https://www.youtube.com/watch?v=N4r50EGA8C8  \n",
       "4  https://www.youtube.com/watch?v=VuoiF25tiTQ  \n",
       "5  https://www.youtube.com/watch?v=yMLOvh6_1zY  \n",
       "6  https://www.youtube.com/watch?v=jp2IZQ9mz8M  \n",
       "7  https://www.youtube.com/watch?v=fcR6rVF8tqE  \n",
       "8  https://www.youtube.com/watch?v=3JDerRTueMw  \n",
       "9  https://www.youtube.com/watch?v=wftc_bm387k  "
      ]
     },
     "execution_count": 34,
     "metadata": {},
     "output_type": "execute_result"
    }
   ],
   "source": [
    "data"
   ]
  },
  {
   "cell_type": "code",
   "execution_count": 35,
   "metadata": {
    "ExecuteTime": {
     "end_time": "2020-07-24T12:33:21.211977Z",
     "start_time": "2020-07-24T12:33:21.196886Z"
    }
   },
   "outputs": [],
   "source": [
    "DATA=pd.DataFrame(columns=['video name','video link','video views','uploaded date','like','dislike','comments'])"
   ]
  },
  {
   "cell_type": "code",
   "execution_count": 36,
   "metadata": {
    "ExecuteTime": {
     "end_time": "2020-07-24T12:28:09.369943Z",
     "start_time": "2020-07-24T12:28:09.364945Z"
    }
   },
   "outputs": [],
   "source": [
    "url=url.to_list()"
   ]
  },
  {
   "cell_type": "code",
   "execution_count": 37,
   "metadata": {
    "ExecuteTime": {
     "end_time": "2020-07-24T12:28:12.089259Z",
     "start_time": "2020-07-24T12:28:12.083273Z"
    }
   },
   "outputs": [
    {
     "data": {
      "text/plain": [
       "['https://www.youtube.com/watch?v=GzSBboiJI_4',\n",
       " 'https://www.youtube.com/watch?v=jdIPG6qSnwA',\n",
       " 'https://www.youtube.com/watch?v=4NMBTM-S78I',\n",
       " 'https://www.youtube.com/watch?v=N4r50EGA8C8',\n",
       " 'https://www.youtube.com/watch?v=VuoiF25tiTQ',\n",
       " 'https://www.youtube.com/watch?v=yMLOvh6_1zY',\n",
       " 'https://www.youtube.com/watch?v=jp2IZQ9mz8M',\n",
       " 'https://www.youtube.com/watch?v=fcR6rVF8tqE',\n",
       " 'https://www.youtube.com/watch?v=3JDerRTueMw',\n",
       " 'https://www.youtube.com/watch?v=wftc_bm387k']"
      ]
     },
     "execution_count": 37,
     "metadata": {},
     "output_type": "execute_result"
    }
   ],
   "source": [
    "url"
   ]
  },
  {
   "cell_type": "code",
   "execution_count": 38,
   "metadata": {
    "ExecuteTime": {
     "end_time": "2020-07-24T12:28:57.678710Z",
     "start_time": "2020-07-24T12:28:57.673710Z"
    }
   },
   "outputs": [],
   "source": [
    "DICTIONARY=dict()"
   ]
  },
  {
   "cell_type": "code",
   "execution_count": 39,
   "metadata": {
    "ExecuteTime": {
     "end_time": "2020-07-24T12:31:17.006167Z",
     "start_time": "2020-07-24T12:31:06.372577Z"
    }
   },
   "outputs": [
    {
     "name": "stdout",
     "output_type": "stream",
     "text": [
      "Requirement already satisfied: webdriver-manager in e:\\anaconda\\lib\\site-packages (3.2.1)\n",
      "Requirement already satisfied: configparser in e:\\anaconda\\lib\\site-packages (from webdriver-manager) (5.0.0)\n",
      "Requirement already satisfied: crayons in e:\\anaconda\\lib\\site-packages (from webdriver-manager) (0.3.1)\n",
      "Requirement already satisfied: requests in e:\\anaconda\\lib\\site-packages (from webdriver-manager) (2.24.0)\n",
      "Requirement already satisfied: colorama in e:\\anaconda\\lib\\site-packages (from crayons->webdriver-manager) (0.4.1)\n",
      "Requirement already satisfied: certifi>=2017.4.17 in e:\\anaconda\\lib\\site-packages (from requests->webdriver-manager) (2019.9.11)\n",
      "Requirement already satisfied: urllib3!=1.25.0,!=1.25.1,<1.26,>=1.21.1 in e:\\anaconda\\lib\\site-packages (from requests->webdriver-manager) (1.24.1)\n",
      "Requirement already satisfied: idna<3,>=2.5 in e:\\anaconda\\lib\\site-packages (from requests->webdriver-manager) (2.8)\n",
      "Requirement already satisfied: chardet<4,>=3.0.2 in e:\\anaconda\\lib\\site-packages (from requests->webdriver-manager) (3.0.4)\n"
     ]
    }
   ],
   "source": [
    "!pip install webdriver-manager"
   ]
  },
  {
   "cell_type": "code",
   "execution_count": 40,
   "metadata": {
    "ExecuteTime": {
     "end_time": "2020-07-24T12:31:57.363538Z",
     "start_time": "2020-07-24T12:31:50.380571Z"
    }
   },
   "outputs": [
    {
     "name": "stderr",
     "output_type": "stream",
     "text": [
      "[WDM] - Current google-chrome version is 84.0.4147\n"
     ]
    },
    {
     "name": "stdout",
     "output_type": "stream",
     "text": [
      " \n"
     ]
    },
    {
     "name": "stderr",
     "output_type": "stream",
     "text": [
      "[WDM] - Get LATEST driver version for 84.0.4147\n",
      "[WDM] - Driver [C:\\Users\\RAJ\\.wdm\\drivers\\chromedriver\\win32\\84.0.4147.30\\chromedriver.exe] found in cache\n"
     ]
    }
   ],
   "source": [
    "from selenium import webdriver\n",
    "from webdriver_manager.chrome import ChromeDriverManager\n",
    "\n",
    "driver = webdriver.Chrome(ChromeDriverManager().install())"
   ]
  },
  {
   "cell_type": "code",
   "execution_count": 41,
   "metadata": {
    "ExecuteTime": {
     "end_time": "2020-07-24T12:44:26.852179Z",
     "start_time": "2020-07-24T12:33:28.089236Z"
    }
   },
   "outputs": [],
   "source": [
    "for x in url:\n",
    "    driver.get(x)\n",
    "    sleep(3)\n",
    "    sel = Selector(text = driver.page_source)\n",
    "    title = driver.find_element_by_xpath('//*[@id=\"container\"]/h1/yt-formatted-string').text\n",
    "    DICTIONARY['video name']=title\n",
    "    DICTIONARY['video link']= driver.current_url\n",
    "    views = driver.find_element_by_xpath(\n",
    "            '//*[@id=\"container\"]//*[@id=\"info\"]//*[@id=\"info-text\"]//*[@id=\"count\"]/yt-view-count-renderer').text\n",
    "    DICTIONARY['video views']=views\n",
    "    date = driver.find_element_by_xpath(\n",
    "            '//*[@id=\"container\"]//*[@id=\"info\"]//*[@id=\"date\"]/yt-formatted-string').text\n",
    "    DICTIONARY['uploaded date']=date\n",
    "    likeNdislike = driver.find_element_by_xpath(\n",
    "            '//*[@id=\"container\"]//*[@id=\"info\"]//*[@id=\"menu-container\"]//*[@id=\"menu\"]/ytd-menu-renderer//*['\n",
    "            '@id=\"top-level-buttons\"]').text\n",
    "\n",
    "    txt = likeNdislike.split()\n",
    "    DICTIONARY['like']=txt[0]\n",
    "    DICTIONARY['dislike']=txt[1]\n",
    "    comment_section = driver.find_element_by_xpath('//*[@id=\"comments\"]')\n",
    "\n",
    "    driver.execute_script(\"arguments[0].scrollIntoView();\", comment_section)\n",
    "    time.sleep(7)\n",
    "\n",
    "    last_height = driver.execute_script(\"return document.documentElement.scrollHeight\")\n",
    "\n",
    "    while True:\n",
    "            driver.execute_script(\"window.scrollTo(0, document.documentElement.scrollHeight);\")\n",
    "\n",
    "            time.sleep(20)\n",
    "\n",
    "            new_height = driver.execute_script(\"return document.documentElement.scrollHeight\")\n",
    "            if new_height == last_height:\n",
    "                break\n",
    "            last_height = new_height\n",
    "\n",
    "    driver.execute_script(\"window.scrollTo(0, document.documentElement.scrollHeight);\")\n",
    "\n",
    "    try:\n",
    "            username_elems = driver.find_elements_by_xpath('//*[@id=\"author-text\"]')\n",
    "            comment_elems = driver.find_elements_by_xpath('//*[@id=\"content-text\"]')\n",
    "\n",
    "    except exceptions.NoSuchElementException:\n",
    "            error = \"Error: Double check selector OR \"\n",
    "            error += \"element may not yet be on the screen at the time of the find operation\"\n",
    "            print(error)\n",
    "    for username, comment in zip(username_elems, comment_elems):\n",
    "            DICTIONARY['comments'] = (username.text + \": \" + comment.text + \"\\n\")\n",
    "    \n",
    "    DATA=DATA.append(DICTIONARY,ignore_index=True)"
   ]
  },
  {
   "cell_type": "code",
   "execution_count": 42,
   "metadata": {
    "ExecuteTime": {
     "end_time": "2020-07-24T12:45:20.190299Z",
     "start_time": "2020-07-24T12:45:20.165315Z"
    }
   },
   "outputs": [
    {
     "data": {
      "text/html": [
       "<div>\n",
       "<style scoped>\n",
       "    .dataframe tbody tr th:only-of-type {\n",
       "        vertical-align: middle;\n",
       "    }\n",
       "\n",
       "    .dataframe tbody tr th {\n",
       "        vertical-align: top;\n",
       "    }\n",
       "\n",
       "    .dataframe thead th {\n",
       "        text-align: right;\n",
       "    }\n",
       "</style>\n",
       "<table border=\"1\" class=\"dataframe\">\n",
       "  <thead>\n",
       "    <tr style=\"text-align: right;\">\n",
       "      <th></th>\n",
       "      <th>video name</th>\n",
       "      <th>video link</th>\n",
       "      <th>video views</th>\n",
       "      <th>uploaded date</th>\n",
       "      <th>like</th>\n",
       "      <th>dislike</th>\n",
       "      <th>comments</th>\n",
       "    </tr>\n",
       "  </thead>\n",
       "  <tbody>\n",
       "    <tr>\n",
       "      <th>0</th>\n",
       "      <td>Gossip: Are Liverpool closing in on Koulibaly,...</td>\n",
       "      <td>https://www.youtube.com/watch?v=GzSBboiJI_4</td>\n",
       "      <td>6,221 views</td>\n",
       "      <td>Jul 22, 2020</td>\n",
       "      <td>138</td>\n",
       "      <td>7</td>\n",
       "      <td>buttplugs and mastadons 1988: Fingers crossed\\n</td>\n",
       "    </tr>\n",
       "    <tr>\n",
       "      <th>1</th>\n",
       "      <td>Gossip: Can Chelsea really sign Kai Havertz, B...</td>\n",
       "      <td>https://www.youtube.com/watch?v=jdIPG6qSnwA</td>\n",
       "      <td>7,754 views</td>\n",
       "      <td>Jul 15, 2020</td>\n",
       "      <td>184</td>\n",
       "      <td>19</td>\n",
       "      <td>Diren Silva: .                       Werner\\nP...</td>\n",
       "    </tr>\n",
       "    <tr>\n",
       "      <th>2</th>\n",
       "      <td>Arsenal's back three sloppy against Spurs - Ke...</td>\n",
       "      <td>https://www.youtube.com/watch?v=4NMBTM-S78I</td>\n",
       "      <td>11,129 views</td>\n",
       "      <td>Jul 12, 2020</td>\n",
       "      <td>194</td>\n",
       "      <td>10</td>\n",
       "      <td>Mujeeb Ahmed: Our current defence just isn't g...</td>\n",
       "    </tr>\n",
       "    <tr>\n",
       "      <th>3</th>\n",
       "      <td>Can Chunkz win it for Arsenal in beer goggles?...</td>\n",
       "      <td>https://www.youtube.com/watch?v=N4r50EGA8C8</td>\n",
       "      <td>16,825 views</td>\n",
       "      <td>Jul 10, 2020</td>\n",
       "      <td>589</td>\n",
       "      <td>21</td>\n",
       "      <td>King Armish: Ok so lowkey Yasmin is gorgeous.\\n</td>\n",
       "    </tr>\n",
       "    <tr>\n",
       "      <th>4</th>\n",
       "      <td>Man Utd will play Chelsea for the fourth year ...</td>\n",
       "      <td>https://www.youtube.com/watch?v=VuoiF25tiTQ</td>\n",
       "      <td>237,663 views</td>\n",
       "      <td>Jul 8, 2020</td>\n",
       "      <td>3K</td>\n",
       "      <td>46</td>\n",
       "      <td>RustyNuts: No body cares.  Football is dead\\n</td>\n",
       "    </tr>\n",
       "    <tr>\n",
       "      <th>5</th>\n",
       "      <td>League of Legends explained by the experts | B...</td>\n",
       "      <td>https://www.youtube.com/watch?v=yMLOvh6_1zY</td>\n",
       "      <td>1,924 views</td>\n",
       "      <td>Jul 6, 2020</td>\n",
       "      <td>30</td>\n",
       "      <td>14</td>\n",
       "      <td>Daniel Coop: I think it’s an insult to real pr...</td>\n",
       "    </tr>\n",
       "    <tr>\n",
       "      <th>6</th>\n",
       "      <td>Is it all over for Aston Villa? | Match of the...</td>\n",
       "      <td>https://www.youtube.com/watch?v=jp2IZQ9mz8M</td>\n",
       "      <td>27,303 views</td>\n",
       "      <td>Jul 5, 2020</td>\n",
       "      <td>257</td>\n",
       "      <td>20</td>\n",
       "      <td>ameer jaunbocus: Why doesn't anyone see Man Ut...</td>\n",
       "    </tr>\n",
       "    <tr>\n",
       "      <th>7</th>\n",
       "      <td>Big Zuu's incredible freestyle for Premier Lea...</td>\n",
       "      <td>https://www.youtube.com/watch?v=fcR6rVF8tqE</td>\n",
       "      <td>99,067 views</td>\n",
       "      <td>Jul 2, 2020</td>\n",
       "      <td>6.9K</td>\n",
       "      <td>233</td>\n",
       "      <td>HJ BlaZe: Trash\\n</td>\n",
       "    </tr>\n",
       "    <tr>\n",
       "      <th>8</th>\n",
       "      <td>Liverpool fans embarrass Man City fans in dizz...</td>\n",
       "      <td>https://www.youtube.com/watch?v=3JDerRTueMw</td>\n",
       "      <td>5,520 views</td>\n",
       "      <td>Jul 1, 2020</td>\n",
       "      <td>184</td>\n",
       "      <td>7</td>\n",
       "      <td>Eazy Kidda: spot the white man.\\n</td>\n",
       "    </tr>\n",
       "    <tr>\n",
       "      <th>9</th>\n",
       "      <td>Ben Chilwell explains what it's like to play a...</td>\n",
       "      <td>https://www.youtube.com/watch?v=wftc_bm387k</td>\n",
       "      <td>44,151 views</td>\n",
       "      <td>Jun 29, 2020</td>\n",
       "      <td>1.2K</td>\n",
       "      <td>13</td>\n",
       "      <td>Jake Mackay: Why do people act as if their is ...</td>\n",
       "    </tr>\n",
       "  </tbody>\n",
       "</table>\n",
       "</div>"
      ],
      "text/plain": [
       "                                          video name  \\\n",
       "0  Gossip: Are Liverpool closing in on Koulibaly,...   \n",
       "1  Gossip: Can Chelsea really sign Kai Havertz, B...   \n",
       "2  Arsenal's back three sloppy against Spurs - Ke...   \n",
       "3  Can Chunkz win it for Arsenal in beer goggles?...   \n",
       "4  Man Utd will play Chelsea for the fourth year ...   \n",
       "5  League of Legends explained by the experts | B...   \n",
       "6  Is it all over for Aston Villa? | Match of the...   \n",
       "7  Big Zuu's incredible freestyle for Premier Lea...   \n",
       "8  Liverpool fans embarrass Man City fans in dizz...   \n",
       "9  Ben Chilwell explains what it's like to play a...   \n",
       "\n",
       "                                    video link    video views uploaded date  \\\n",
       "0  https://www.youtube.com/watch?v=GzSBboiJI_4    6,221 views  Jul 22, 2020   \n",
       "1  https://www.youtube.com/watch?v=jdIPG6qSnwA    7,754 views  Jul 15, 2020   \n",
       "2  https://www.youtube.com/watch?v=4NMBTM-S78I   11,129 views  Jul 12, 2020   \n",
       "3  https://www.youtube.com/watch?v=N4r50EGA8C8   16,825 views  Jul 10, 2020   \n",
       "4  https://www.youtube.com/watch?v=VuoiF25tiTQ  237,663 views   Jul 8, 2020   \n",
       "5  https://www.youtube.com/watch?v=yMLOvh6_1zY    1,924 views   Jul 6, 2020   \n",
       "6  https://www.youtube.com/watch?v=jp2IZQ9mz8M   27,303 views   Jul 5, 2020   \n",
       "7  https://www.youtube.com/watch?v=fcR6rVF8tqE   99,067 views   Jul 2, 2020   \n",
       "8  https://www.youtube.com/watch?v=3JDerRTueMw    5,520 views   Jul 1, 2020   \n",
       "9  https://www.youtube.com/watch?v=wftc_bm387k   44,151 views  Jun 29, 2020   \n",
       "\n",
       "   like dislike                                           comments  \n",
       "0   138       7    buttplugs and mastadons 1988: Fingers crossed\\n  \n",
       "1   184      19  Diren Silva: .                       Werner\\nP...  \n",
       "2   194      10  Mujeeb Ahmed: Our current defence just isn't g...  \n",
       "3   589      21    King Armish: Ok so lowkey Yasmin is gorgeous.\\n  \n",
       "4    3K      46      RustyNuts: No body cares.  Football is dead\\n  \n",
       "5    30      14  Daniel Coop: I think it’s an insult to real pr...  \n",
       "6   257      20  ameer jaunbocus: Why doesn't anyone see Man Ut...  \n",
       "7  6.9K     233                                  HJ BlaZe: Trash\\n  \n",
       "8   184       7                  Eazy Kidda: spot the white man.\\n  \n",
       "9  1.2K      13  Jake Mackay: Why do people act as if their is ...  "
      ]
     },
     "execution_count": 42,
     "metadata": {},
     "output_type": "execute_result"
    }
   ],
   "source": [
    "DATA"
   ]
  },
  {
   "cell_type": "code",
   "execution_count": 43,
   "metadata": {},
   "outputs": [],
   "source": [
    "DATA.to_csv('FINAL OUTPUT.csv') "
   ]
  }
 ],
 "metadata": {
  "kernelspec": {
   "display_name": "Python 3",
   "language": "python",
   "name": "python3"
  },
  "language_info": {
   "codemirror_mode": {
    "name": "ipython",
    "version": 3
   },
   "file_extension": ".py",
   "mimetype": "text/x-python",
   "name": "python",
   "nbconvert_exporter": "python",
   "pygments_lexer": "ipython3",
   "version": "3.7.1"
  },
  "toc": {
   "base_numbering": 1,
   "nav_menu": {},
   "number_sections": true,
   "sideBar": true,
   "skip_h1_title": false,
   "title_cell": "Table of Contents",
   "title_sidebar": "Contents",
   "toc_cell": false,
   "toc_position": {},
   "toc_section_display": true,
   "toc_window_display": false
  }
 },
 "nbformat": 4,
 "nbformat_minor": 2
}
