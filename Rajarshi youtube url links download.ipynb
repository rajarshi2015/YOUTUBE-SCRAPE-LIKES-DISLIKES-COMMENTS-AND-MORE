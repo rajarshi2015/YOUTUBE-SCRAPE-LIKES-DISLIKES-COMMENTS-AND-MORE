{
 "cells": [
  {
   "cell_type": "code",
   "execution_count": null,
   "metadata": {},
   "outputs": [],
   "source": [
    "#1. Write a script in python, which scrapes video views, uploaded date, comments, like, dislikes from youtube for given video links. Write output in csv format.\n",
    "\n",
    "#Input: Take any random 500 video links from youtube.\n",
    "#Output Format: video link, video views, uploaded date, comments, like, dislikes\n"
   ]
  },
  {
   "cell_type": "code",
   "execution_count": 10,
   "metadata": {},
   "outputs": [],
   "source": [
    "import time\n",
    "from selenium import webdriver\n",
    "from selenium.webdriver.common.keys import Keys\n",
    "from selenium.webdriver.common.action_chains import ActionChains\n",
    "import csv"
   ]
  },
  {
   "cell_type": "code",
   "execution_count": 11,
   "metadata": {},
   "outputs": [],
   "source": [
    "driver = webdriver.Chrome(r'C:/Users/RAJ/Downloads/chromedriver')\n",
    "driver.get(\"https://www.youtube.com/channel/UCW6-BQWFA70Dyyc7ZpZ9Xlg/videos\")\n",
    "time.sleep(1)"
   ]
  },
  {
   "cell_type": "code",
   "execution_count": 12,
   "metadata": {},
   "outputs": [],
   "source": [
    "elem = driver.find_element_by_tag_name(\"body\")\n",
    "lastHeight = driver.execute_script(\"return document.getElementById('content').scrollHeight\")\n",
    "while True:\n",
    "  driver.execute_script(\"window.scrollTo(0, document.getElementById('content').scrollHeight);\")\n",
    "  time.sleep(3)\n",
    "  newHeight = driver.execute_script(\"return document.getElementById('content').scrollHeight\")\n",
    "  if newHeight == lastHeight:\n",
    "    break\n",
    "  lastHeight = newHeight\n",
    "post_tags = driver.find_elements_by_xpath('//div/h3/a')\n",
    "\n",
    "with open('youtube_videos.csv', 'w',newline='') as csvfile:\n",
    "  autowriter = csv.writer(csvfile)\n",
    "  autowriter.writerow(['Title','URL'])\n",
    "  for post in post_tags:\n",
    "    autowriter.writerow([post.get_attribute('title'), post.get_attribute('href')])"
   ]
  },
  {
   "cell_type": "code",
   "execution_count": 44,
   "metadata": {},
   "outputs": [],
   "source": [
    "import pandas as pd"
   ]
  },
  {
   "cell_type": "code",
   "execution_count": 49,
   "metadata": {},
   "outputs": [],
   "source": [
    "data = pd.read_csv('youtube_videos.csv',encoding='ISO-8859-1')"
   ]
  },
  {
   "cell_type": "code",
   "execution_count": 50,
   "metadata": {},
   "outputs": [
    {
     "data": {
      "text/html": [
       "<div>\n",
       "<style scoped>\n",
       "    .dataframe tbody tr th:only-of-type {\n",
       "        vertical-align: middle;\n",
       "    }\n",
       "\n",
       "    .dataframe tbody tr th {\n",
       "        vertical-align: top;\n",
       "    }\n",
       "\n",
       "    .dataframe thead th {\n",
       "        text-align: right;\n",
       "    }\n",
       "</style>\n",
       "<table border=\"1\" class=\"dataframe\">\n",
       "  <thead>\n",
       "    <tr style=\"text-align: right;\">\n",
       "      <th></th>\n",
       "      <th>Title</th>\n",
       "      <th>URL</th>\n",
       "    </tr>\n",
       "  </thead>\n",
       "  <tbody>\n",
       "    <tr>\n",
       "      <th>0</th>\n",
       "      <td>Gossip: Are Liverpool closing in on Koulibaly,...</td>\n",
       "      <td>https://www.youtube.com/watch?v=GzSBboiJI_4</td>\n",
       "    </tr>\n",
       "    <tr>\n",
       "      <th>1</th>\n",
       "      <td>Gossip: Can Chelsea really sign Kai Havertz, B...</td>\n",
       "      <td>https://www.youtube.com/watch?v=jdIPG6qSnwA</td>\n",
       "    </tr>\n",
       "    <tr>\n",
       "      <th>2</th>\n",
       "      <td>Arsenal's back three sloppy against Spurs - Ke...</td>\n",
       "      <td>https://www.youtube.com/watch?v=4NMBTM-S78I</td>\n",
       "    </tr>\n",
       "    <tr>\n",
       "      <th>3</th>\n",
       "      <td>Can Chunkz win it for Arsenal in beer goggles?...</td>\n",
       "      <td>https://www.youtube.com/watch?v=N4r50EGA8C8</td>\n",
       "    </tr>\n",
       "    <tr>\n",
       "      <th>4</th>\n",
       "      <td>Man Utd will play Chelsea for the fourth year ...</td>\n",
       "      <td>https://www.youtube.com/watch?v=VuoiF25tiTQ</td>\n",
       "    </tr>\n",
       "  </tbody>\n",
       "</table>\n",
       "</div>"
      ],
      "text/plain": [
       "                                               Title  \\\n",
       "0  Gossip: Are Liverpool closing in on Koulibaly,...   \n",
       "1  Gossip: Can Chelsea really sign Kai Havertz, B...   \n",
       "2  Arsenal's back three sloppy against Spurs - Ke...   \n",
       "3  Can Chunkz win it for Arsenal in beer goggles?...   \n",
       "4  Man Utd will play Chelsea for the fourth year ...   \n",
       "\n",
       "                                           URL  \n",
       "0  https://www.youtube.com/watch?v=GzSBboiJI_4  \n",
       "1  https://www.youtube.com/watch?v=jdIPG6qSnwA  \n",
       "2  https://www.youtube.com/watch?v=4NMBTM-S78I  \n",
       "3  https://www.youtube.com/watch?v=N4r50EGA8C8  \n",
       "4  https://www.youtube.com/watch?v=VuoiF25tiTQ  "
      ]
     },
     "execution_count": 50,
     "metadata": {},
     "output_type": "execute_result"
    }
   ],
   "source": [
    "data.head()"
   ]
  }
 ],
 "metadata": {
  "kernelspec": {
   "display_name": "Python 3",
   "language": "python",
   "name": "python3"
  },
  "language_info": {
   "codemirror_mode": {
    "name": "ipython",
    "version": 3
   },
   "file_extension": ".py",
   "mimetype": "text/x-python",
   "name": "python",
   "nbconvert_exporter": "python",
   "pygments_lexer": "ipython3",
   "version": "3.7.1"
  }
 },
 "nbformat": 4,
 "nbformat_minor": 2
}
